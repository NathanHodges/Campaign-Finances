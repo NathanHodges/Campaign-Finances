{
 "cells": [
  {
   "cell_type": "markdown",
   "metadata": {
    "slideshow": {
     "slide_type": "slide"
    }
   },
   "source": [
    "# Dark Money\n",
    "\n",
    "By: Nathan Hodges"
   ]
  },
  {
   "cell_type": "markdown",
   "metadata": {
    "slideshow": {
     "slide_type": "slide"
    }
   },
   "source": [
    "\n",
    "# Here is a case that is important\n",
    "\n",
    "[Buckley_v._Valeo](https://en.wikipedia.org/wiki/Buckley_v._Valeo)"
   ]
  },
  {
   "cell_type": "code",
   "execution_count": 26,
   "metadata": {},
   "outputs": [],
   "source": [
    "import os \n",
    "import pandas as pd\n",
    "import matplotlib.pyplot as plt\n",
    "import matplotlib.dates as dates\n",
    "import matplotlib.ticker as ticker\n",
    "import numpy as np"
   ]
  },
  {
   "cell_type": "code",
   "execution_count": 45,
   "metadata": {},
   "outputs": [
    {
     "data": {
      "text/html": [
       "<div>\n",
       "<style scoped>\n",
       "    .dataframe tbody tr th:only-of-type {\n",
       "        vertical-align: middle;\n",
       "    }\n",
       "\n",
       "    .dataframe tbody tr th {\n",
       "        vertical-align: top;\n",
       "    }\n",
       "\n",
       "    .dataframe thead th {\n",
       "        text-align: right;\n",
       "    }\n",
       "</style>\n",
       "<table border=\"1\" class=\"dataframe\">\n",
       "  <thead>\n",
       "    <tr style=\"text-align: right;\">\n",
       "      <th></th>\n",
       "      <th>Field name</th>\n",
       "    </tr>\n",
       "    <tr>\n",
       "      <th>Column name</th>\n",
       "      <th></th>\n",
       "    </tr>\n",
       "  </thead>\n",
       "  <tbody>\n",
       "    <tr>\n",
       "      <th>CMTE_ID</th>\n",
       "      <td>Committee identification</td>\n",
       "    </tr>\n",
       "    <tr>\n",
       "      <th>CMTE_NM</th>\n",
       "      <td>Committee name</td>\n",
       "    </tr>\n",
       "    <tr>\n",
       "      <th>CMTE_TP</th>\n",
       "      <td>Committee type</td>\n",
       "    </tr>\n",
       "    <tr>\n",
       "      <th>CMTE_DSGN</th>\n",
       "      <td>Committee designation</td>\n",
       "    </tr>\n",
       "    <tr>\n",
       "      <th>CMTE_FILING_FREQ</th>\n",
       "      <td>Committee filing frequency</td>\n",
       "    </tr>\n",
       "    <tr>\n",
       "      <th>TTL_RECEIPTS</th>\n",
       "      <td>Total receipts</td>\n",
       "    </tr>\n",
       "    <tr>\n",
       "      <th>TRANS_FROM_AFF</th>\n",
       "      <td>Transfers from affiliates</td>\n",
       "    </tr>\n",
       "    <tr>\n",
       "      <th>INDV_CONTRIB</th>\n",
       "      <td>Contributions from individuals</td>\n",
       "    </tr>\n",
       "    <tr>\n",
       "      <th>OTHER_POL_CMTE_CONTRIB</th>\n",
       "      <td>Contributions from other political committees</td>\n",
       "    </tr>\n",
       "    <tr>\n",
       "      <th>CAND_CONTRIB</th>\n",
       "      <td>Contributions from candidate</td>\n",
       "    </tr>\n",
       "    <tr>\n",
       "      <th>CAND_LOANS</th>\n",
       "      <td>Candidate loans</td>\n",
       "    </tr>\n",
       "    <tr>\n",
       "      <th>TTL_LOANS_RECEIVED</th>\n",
       "      <td>Total loans received</td>\n",
       "    </tr>\n",
       "    <tr>\n",
       "      <th>TTL_DISB</th>\n",
       "      <td>Total disbursements</td>\n",
       "    </tr>\n",
       "    <tr>\n",
       "      <th>TRANF_TO_AFF</th>\n",
       "      <td>Transfers to affiliates</td>\n",
       "    </tr>\n",
       "    <tr>\n",
       "      <th>INDV_REFUNDS</th>\n",
       "      <td>Refunds to individuals</td>\n",
       "    </tr>\n",
       "    <tr>\n",
       "      <th>OTHER_POL_CMTE_REFUNDS</th>\n",
       "      <td>Refunds to other political committees</td>\n",
       "    </tr>\n",
       "    <tr>\n",
       "      <th>CAND_LOAN_REPAY</th>\n",
       "      <td>Candidate loan repayments</td>\n",
       "    </tr>\n",
       "    <tr>\n",
       "      <th>LOAN_REPAY</th>\n",
       "      <td>Loan repayments</td>\n",
       "    </tr>\n",
       "    <tr>\n",
       "      <th>COH_BOP</th>\n",
       "      <td>Cash beginning of period</td>\n",
       "    </tr>\n",
       "    <tr>\n",
       "      <th>COH_COP</th>\n",
       "      <td>Cash close Of period</td>\n",
       "    </tr>\n",
       "    <tr>\n",
       "      <th>DEBTS_OWED_BY</th>\n",
       "      <td>Debts owed by</td>\n",
       "    </tr>\n",
       "    <tr>\n",
       "      <th>NONFED_TRANS_RECEIVED</th>\n",
       "      <td>Nonfederal transfers received</td>\n",
       "    </tr>\n",
       "    <tr>\n",
       "      <th>CONTRIB_TO_OTHER_CMTE</th>\n",
       "      <td>Contributions to other committees</td>\n",
       "    </tr>\n",
       "    <tr>\n",
       "      <th>IND_EXP</th>\n",
       "      <td>Independent expenditures</td>\n",
       "    </tr>\n",
       "    <tr>\n",
       "      <th>PTY_COORD_EXP</th>\n",
       "      <td>Party coordinated expenditures</td>\n",
       "    </tr>\n",
       "    <tr>\n",
       "      <th>NONFED_SHARE_EXP</th>\n",
       "      <td>Nonfederal share expenditures</td>\n",
       "    </tr>\n",
       "    <tr>\n",
       "      <th>CVG_END_DT</th>\n",
       "      <td>Coverage end date</td>\n",
       "    </tr>\n",
       "  </tbody>\n",
       "</table>\n",
       "</div>"
      ],
      "text/plain": [
       "                                                           Field name\n",
       "Column name                                                          \n",
       "CMTE_ID                                      Committee identification\n",
       "CMTE_NM                                                Committee name\n",
       "CMTE_TP                                                Committee type\n",
       "CMTE_DSGN                                       Committee designation\n",
       "CMTE_FILING_FREQ                           Committee filing frequency\n",
       "TTL_RECEIPTS                                           Total receipts\n",
       "TRANS_FROM_AFF                              Transfers from affiliates\n",
       "INDV_CONTRIB                           Contributions from individuals\n",
       "OTHER_POL_CMTE_CONTRIB  Contributions from other political committees\n",
       "CAND_CONTRIB                             Contributions from candidate\n",
       "CAND_LOANS                                            Candidate loans\n",
       "TTL_LOANS_RECEIVED                               Total loans received\n",
       "TTL_DISB                                          Total disbursements\n",
       "TRANF_TO_AFF                                  Transfers to affiliates\n",
       "INDV_REFUNDS                                   Refunds to individuals\n",
       "OTHER_POL_CMTE_REFUNDS          Refunds to other political committees\n",
       "CAND_LOAN_REPAY                             Candidate loan repayments\n",
       "LOAN_REPAY                                            Loan repayments\n",
       "COH_BOP                                      Cash beginning of period\n",
       "COH_COP                                          Cash close Of period\n",
       "DEBTS_OWED_BY                                           Debts owed by\n",
       "NONFED_TRANS_RECEIVED                   Nonfederal transfers received\n",
       "CONTRIB_TO_OTHER_CMTE               Contributions to other committees\n",
       "IND_EXP                                      Independent expenditures\n",
       "PTY_COORD_EXP                          Party coordinated expenditures\n",
       "NONFED_SHARE_EXP                        Nonfederal share expenditures\n",
       "CVG_END_DT                                          Coverage end date"
      ]
     },
     "execution_count": 45,
     "metadata": {},
     "output_type": "execute_result"
    }
   ],
   "source": [
    "col_header = pd.read_csv('D:/Data/PACDataDescription.csv' , usecols = [0,1] , index_col = [0] , nrows = 27 )\n",
    "\n",
    "#2018 PAC Data from FEC\n",
    "data = pd.read_csv('D:/Data/PacData/webk18.txt',\n",
    "                   delimiter = \"|\",\n",
    "                   names = col_header.index,\n",
    "                   parse_dates = ['CVG_END_DT'] )\n",
    "col_header"
   ]
  },
  {
   "cell_type": "code",
   "execution_count": 46,
   "metadata": {},
   "outputs": [],
   "source": [
    "directory = os.fsencode('D:/Data/PacData/')\n",
    "\n",
    "max_receipts = []\n",
    "max_date = []\n",
    "for file in os.listdir(directory):\n",
    "    filename = os.fsdecode(file)\n",
    "    data = pd.read_csv('D:/Data/PacData/' + filename ,\n",
    "                       delimiter = \"|\" ,\n",
    "                       names = col_header.index ,\n",
    "                       parse_dates = ['CVG_END_DT'])\n",
    "    \n",
    "    receipts = data.TTL_RECEIPTS.max()\n",
    "    date = data.CVG_END_DT.min()\n",
    "    \n",
    "    max_receipts.append(receipts)\n",
    "    max_date.append(date)\n",
    "\n",
    "dict = {'date': max_date , 'receipts': max_receipts}\n",
    "\n",
    "df = pd.DataFrame.from_dict(dict)\n",
    "df = df.set_index('date')\n",
    "df = df.sort_index()\n"
   ]
  },
  {
   "cell_type": "code",
   "execution_count": 42,
   "metadata": {},
   "outputs": [
    {
     "data": {
      "image/png": "[encoded data removed]",
      "text/plain": [
       "<Figure size 432x288 with 1 Axes>"
      ]
     },
     "metadata": {
      "needs_background": "light"
     },
     "output_type": "display_data"
    }
   ],
   "source": [
    "fig, ax = plt.subplots()\n",
    "\n",
    "ax = df.receipts.plot(kind = 'bar')\n",
    "\n",
    "ticklabels = [item.strftime('%y') for item in df.index]\n",
    "\n",
    "ax.xaxis.set_major_formatter(ticker.FixedFormatter(ticklabels))\n",
    "\n",
    "plt.gcf().autofmt_xdate()\n",
    "\n",
    "plt.show()"
   ]
  },
  {
   "cell_type": "code",
   "execution_count": null,
   "metadata": {},
   "outputs": [],
   "source": []
  }
 ],
 "metadata": {
  "kernelspec": {
   "display_name": "Python 3",
   "language": "python",
   "name": "python3"
  },
  "language_info": {
   "codemirror_mode": {
    "name": "ipython",
    "version": 3
   },
   "file_extension": ".py",
   "mimetype": "text/x-python",
   "name": "python",
   "nbconvert_exporter": "python",
   "pygments_lexer": "ipython3",
   "version": "3.7.0"
  }
 },
 "nbformat": 4,
 "nbformat_minor": 2
}
